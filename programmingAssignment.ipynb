{
 "cells": [
  {
   "cell_type": "markdown",
   "id": "86a6d8bc",
   "metadata": {},
   "source": [
    "# 7.4 7.5 7.6 7.7"
   ]
  },
  {
   "cell_type": "code",
   "execution_count": null,
   "id": "3cfbf9db",
   "metadata": {},
   "outputs": [],
   "source": [
    "#7.4\n",
    "things = [\"mozzarella\", \"cinderella\", \"salmonella\"]\n",
    "\n",
    "#7.5\n",
    "things[1] = \"Cinderella\"\n",
    "print(things)\n",
    "\n",
    "#7.6\n",
    "things[0] = \"MOZZAERLLA\"\n",
    "print(things)\n",
    "\n",
    "#7.7\n",
    "things.remove(\"salmonella\")\n",
    "print(things)\n"
   ]
  },
  {
   "cell_type": "markdown",
   "id": "c572c3c5",
   "metadata": {},
   "source": [
    "# 9.1 and 9.2"
   ]
  },
  {
   "cell_type": "code",
   "execution_count": null,
   "id": "2c6b4f22",
   "metadata": {},
   "outputs": [],
   "source": [
    "# 9.1\n",
    "def good():\n",
    "    return [\"Harry\", \"Ron\", \"Hermoine\"]\n",
    "\n",
    "#9.2\n",
    "def get_odds():\n",
    "    for num in range(10):\n",
    "        if num % 2 != 0:\n",
    "            yield num\n",
    "\n",
    "count = 0\n",
    "for odd in get_odds():\n",
    "    count += 1\n",
    "    if count == 3:\n",
    "        print(odd)\n",
    "        break\n",
    "\n",
    "#Cant render code block in github?\n"
   ]
  }
 ],
 "metadata": {
  "kernelspec": {
   "display_name": "Python 3",
   "language": "python",
   "name": "python3"
  },
  "language_info": {
   "codemirror_mode": {
    "name": "ipython",
    "version": 3
   },
   "file_extension": ".py",
   "mimetype": "text/x-python",
   "name": "python",
   "nbconvert_exporter": "python",
   "pygments_lexer": "ipython3",
   "version": "3.13.1"
  }
 },
 "nbformat": 4,
 "nbformat_minor": 5
}
